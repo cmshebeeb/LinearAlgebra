{
  "nbformat": 4,
  "nbformat_minor": 0,
  "metadata": {
    "colab": {
      "provenance": [],
      "authorship_tag": "ABX9TyNfiUp/zfUtFK5eKt1P7HIM",
      "include_colab_link": true
    },
    "kernelspec": {
      "name": "python3",
      "display_name": "Python 3"
    },
    "language_info": {
      "name": "python"
    }
  },
  "cells": [
    {
      "cell_type": "markdown",
      "metadata": {
        "id": "view-in-github",
        "colab_type": "text"
      },
      "source": [
        "<a href=\"https://colab.research.google.com/github/cmshebeeb/LinearAlgebra/blob/main/LinearAlgebra.ipynb\" target=\"_parent\"><img src=\"https://colab.research.google.com/assets/colab-badge.svg\" alt=\"Open In Colab\"/></a>"
      ]
    },
    {
      "cell_type": "markdown",
      "source": [
        "# Linear Algebra\n"
      ],
      "metadata": {
        "id": "RLh07lN-n2-V"
      }
    },
    {
      "cell_type": "code",
      "source": [
        "#Checking the matrix is square or not\n",
        "def check_square(mat1):\n",
        "  return len(mat1[0])==len(mat1)\n",
        "\n",
        "#Finding the determinant\n",
        "def det_mat(mat1):\n",
        "  if len(mat1)==2:\n",
        "    determinant= mat1[0][0]*mat1[1][1]-mat1[0][1]*mat1[1][0]\n",
        "  elif len(mat1)==3:\n",
        "    determinant= (mat1[0][0]*mat1[1][1]*mat1[2][2])+(mat1[0][1]*mat1[1][2]*mat1[2][0])+(mat1[0][2]*mat1[1][0]*mat1[2][1])-(mat1[0][2]*mat1[1][1]*mat1[2][0])-(mat1[1][2]*mat1[2][1]*mat1[0][0])-(mat1[2][2]*mat1[1][0]*mat1[0][1])\n",
        "  return determinant\n",
        "\n",
        "#check and find\n",
        "def check(mat1):\n",
        "  if (check_square(mat1)):\n",
        "    if det_mat(mat1)==0:\n",
        "      prop=\"Singluar, No unique solution, Dependent\"\n",
        "    else:\n",
        "      prop= \"Non-Singluar, Independent, Unique solution\"\n",
        "    return det_mat(mat1),prop\n",
        "  else:\n",
        "    return \"Not a square matrix\"\n",
        "\n",
        "mat=[[1,2,3],[2,3,3],[3,4,3]]\n",
        "print(check(mat))"
      ],
      "metadata": {
        "colab": {
          "base_uri": "https://localhost:8080/"
        },
        "id": "JW9Wmm4foHti",
        "outputId": "175a87a3-c1aa-4e3a-b835-440f452532aa"
      },
      "execution_count": 2,
      "outputs": [
        {
          "output_type": "stream",
          "name": "stdout",
          "text": [
            "(0, 'Singluar, No unique solution, Dependent')\n"
          ]
        }
      ]
    },
    {
      "cell_type": "markdown",
      "source": [
        "# Statics_Binomial\n"
      ],
      "metadata": {
        "id": "kJPBhInVn9lG"
      }
    },
    {
      "cell_type": "markdown",
      "source": [
        "A bank issues credit cards to customers under the scheme of Master Card. Based on the past data, the bank has found out that 60% of all accounts pay on time following the bill. If a sample of 7 accounts is selected at random from the current database, construct the Binomial Probability Distribution of accounts paying on time."
      ],
      "metadata": {
        "id": "E28NTUxioXol"
      }
    },
    {
      "cell_type": "code",
      "source": [
        "#this is for finding factorial of a number\n",
        "def factorial(x):\n",
        "  fact=1\n",
        "  if (x==0 or x==1):\n",
        "    return fact\n",
        "  else:\n",
        "    return x*factorial(x-1)\n",
        "\n",
        "#Calculates the binomial coefficient nCr\n",
        "def ncr(a,b):\n",
        "  return int(factorial(a)/(factorial(a-b)*factorial(b)))\n",
        "\n",
        "#Applying Binomial Function\n",
        "def binomial(n,x,p):\n",
        "  return ncr(n,x)*(p**x)*((1-p)**(n-x))\n",
        "\n",
        "\n",
        "#probablity of sucess\n",
        "p=0.6\n",
        "\n",
        "#number of trials\n",
        "n=7\n",
        "\n",
        "#number of success trails\n",
        "x = list(range(1,8))\n",
        "for i in range(len(x)+1):\n",
        "  prob=binomial(n,i,p)\n",
        "  print(f\" n: {n}, x: {i}, p: {p}, Probablity: {prob:.4f}\")"
      ],
      "metadata": {
        "colab": {
          "base_uri": "https://localhost:8080/"
        },
        "id": "Ow2WdTNAp1WX",
        "outputId": "3d2997ae-6ceb-43b4-fc4a-cc1e7824ab8e"
      },
      "execution_count": 15,
      "outputs": [
        {
          "output_type": "stream",
          "name": "stdout",
          "text": [
            " n: 7, x: 0, p: 0.6, Probablity: 0.0016\n",
            " n: 7, x: 1, p: 0.6, Probablity: 0.0172\n",
            " n: 7, x: 2, p: 0.6, Probablity: 0.0774\n",
            " n: 7, x: 3, p: 0.6, Probablity: 0.1935\n",
            " n: 7, x: 4, p: 0.6, Probablity: 0.2903\n",
            " n: 7, x: 5, p: 0.6, Probablity: 0.2613\n",
            " n: 7, x: 6, p: 0.6, Probablity: 0.1306\n",
            " n: 7, x: 7, p: 0.6, Probablity: 0.0280\n"
          ]
        }
      ]
    }
  ]
}