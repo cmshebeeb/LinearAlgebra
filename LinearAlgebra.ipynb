{
  "nbformat": 4,
  "nbformat_minor": 0,
  "metadata": {
    "colab": {
      "provenance": [],
      "authorship_tag": "ABX9TyN3aFEALbkvlGVyShusSTmv",
      "include_colab_link": true
    },
    "kernelspec": {
      "name": "python3",
      "display_name": "Python 3"
    },
    "language_info": {
      "name": "python"
    }
  },
  "cells": [
    {
      "cell_type": "markdown",
      "metadata": {
        "id": "view-in-github",
        "colab_type": "text"
      },
      "source": [
        "<a href=\"https://colab.research.google.com/github/cmshebeeb/LinearAlgebra/blob/main/LinearAlgebra.ipynb\" target=\"_parent\"><img src=\"https://colab.research.google.com/assets/colab-badge.svg\" alt=\"Open In Colab\"/></a>"
      ]
    },
    {
      "cell_type": "code",
      "execution_count": 22,
      "metadata": {
        "colab": {
          "base_uri": "https://localhost:8080/"
        },
        "id": "FSZ1plZNi8Y5",
        "outputId": "824ac0f0-4904-4731-ac0e-4f229a956abf"
      },
      "outputs": [
        {
          "output_type": "stream",
          "name": "stdout",
          "text": [
            "(0, 'Singluar, No unique solution, Dependent')\n"
          ]
        }
      ],
      "source": [
        "#Checking the matrix is square or not\n",
        "def check_square(mat1):\n",
        "  return len(mat1[0])==len(mat1)\n",
        "\n",
        "#Finding the determinant\n",
        "def det_mat(mat1):\n",
        "  if len(mat1)==2:\n",
        "    determinant= mat1[0][0]*mat1[1][1]-mat1[0][1]*mat1[1][0]\n",
        "  elif len(mat1)==3:\n",
        "    determinant= (mat1[0][0]*mat1[1][1]*mat1[2][2])+(mat1[0][1]*mat1[1][2]*mat1[2][0])+(mat1[0][2]*mat1[1][0]*mat1[2][1])-(mat1[0][2]*mat1[1][1]*mat1[2][0])-(mat1[1][2]*mat1[2][1]*mat1[0][0])-(mat1[2][2]*mat1[1][0]*mat1[0][1])\n",
        "  return determinant\n",
        "\n",
        "#check and find\n",
        "def check(mat1):\n",
        "  if (check_square(mat1)):\n",
        "    if det_mat(mat1)==0:\n",
        "      prop=\"Singluar, No unique solution, Dependent\"\n",
        "    else:\n",
        "      prop= \"Non-Singluar, Independent, Unique solution\"\n",
        "    return det_mat(mat1),prop\n",
        "  else:\n",
        "    return \"Not a square matrix\"\n",
        "\n",
        "mat=[[1,2,3],[2,3,3],[3,4,3]]\n",
        "print(check(mat))"
      ]
    }
  ]
}